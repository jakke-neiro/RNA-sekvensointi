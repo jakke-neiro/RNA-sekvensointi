{
 "cells": [
  {
   "cell_type": "markdown",
   "id": "be093d47",
   "metadata": {},
   "source": [
    "# DESeq2 teoria"
   ]
  },
  {
   "cell_type": "markdown",
   "id": "735a7b3d",
   "metadata": {},
   "source": [
    "Parametrit\n",
    "* $i \\in \\{1, \\dots, n\\}$, geenin indeksi (gene index)\n",
    "* $j \\in \\{1, \\dots, m\\}$, näytteen indeksi (sample index)\n",
    "* $r \\in \\{0, \\dots, p-1\\}$, kovarianssiindeksi (covariate index, with intercept r = 0)\n",
    "* $K_{ij}$ geenin $i$ sekvenssilukumäärä näytteesä $j$ (counts of reads for gene i, sample j)\n",
    "* $\\mu_{ij}$ sovitettu keskiarvo (fitted mean)\n",
    "* $\\alpha_i$ geenikohtainen hajonta (gene-specific dispersion)\n",
    "* $s_j$ näytekohtainen suuruustekijä (sample-specific size factor)\n",
    "* $s_{ij}$ geeni- ja näytekohtainen normalisaatiovakio (gene- and sample-specific normalization factor)\n",
    "* $q_{ij}$ proportional to true concentration of fragments\n",
    "* $x_{jr}$ elements of the design matrix $X$\n",
    "*"
   ]
  },
  {
   "cell_type": "markdown",
   "id": "3ed37d35",
   "metadata": {},
   "source": [
    "$$\n",
    "NB(y | \\mu, \\alpha) = {y + \\alpha -1 \\choose y}(\\frac{\\mu}{\\mu + \\alpha})^n (\\frac{\\alpha}{\\mu + \\alpha})^\\alpha\n",
    "$$"
   ]
  },
  {
   "cell_type": "markdown",
   "id": "84138946",
   "metadata": {},
   "source": [
    "### Tilastollinen malli ja normalisaatio"
   ]
  },
  {
   "cell_type": "markdown",
   "id": "b8a884f3",
   "metadata": {},
   "source": [
    "Sekvenssilukumäärä $K_{ij}$ geenille $i$ näytteessä $j$ mallinnetaan negatiivisen binomijakauman yleistetyllä lineaarisella mallilla:\n",
    "\n",
    "$$\n",
    "K_{ij} \\sim NB(\\mu_{ij}, \\alpha_i)\n",
    "$$\n",
    "\n",
    "$$\n",
    "\\mu_{ij} = s_{ij}q_{ij}\n",
    "$$"
   ]
  },
  {
   "cell_type": "markdown",
   "id": "172a582f",
   "metadata": {},
   "source": [
    "$$\n",
    "\\log q_{ij} = \\sum_r x_{jr} \\beta_{ir}\n",
    "$$"
   ]
  },
  {
   "cell_type": "markdown",
   "id": "be28a89f",
   "metadata": {},
   "source": [
    "Oletusarvoisesti normalisaatiovakiot $s_{ij}$ ovat vakioita yhdessä näytteessä, eli $s_{ij} = s_j$. Normalisaatiovakiot estimoidaan osamäärien mediaanimenetelmällä:\n",
    "\n",
    "$$\n",
    "s_j = \\textrm{median}\\frac{K_{ij}}{K_i^R}, K_i^R \\neq 0 \n",
    "$$\n",
    "jossa\n",
    "$$\n",
    "K_i^R = (\\prod_{j=1}^m K_{ij})^{1/m}\n",
    "$$"
   ]
  },
  {
   "cell_type": "markdown",
   "id": "25c7f83f",
   "metadata": {},
   "source": [
    "### Expanded design matrices"
   ]
  },
  {
   "cell_type": "markdown",
   "id": "b0a0bbcd",
   "metadata": {},
   "source": [
    "Lineaarisessa mallinnuksessa luokkamuuttuja tai tekijä voi saada kaksi tai useampaa arvoa tai tasoa. Yleensä sunnittelumatriisissa yksi luokka on viitearvo (base level) ja se liitetään interceptiin. Standardi GLM:ssä viitetason valinta ei vaikuta kontrasteihin (LFCs). Tämä ei kuitenkaan päde tässä, kun käytetään ridge-regression-like shrinkage vakioolle, kun luokkamuuttjalla on enemmän kuin kaksi luokkaa. Tämä johtuu siitä, että viitearvoon ei kohdistu shrinkage, mutta muihin tasoihin kyllä.  "
   ]
  },
  {
   "cell_type": "markdown",
   "id": "aa404ea3",
   "metadata": {},
   "source": [
    "### Contrasts"
   ]
  },
  {
   "cell_type": "markdown",
   "id": "a056732e",
   "metadata": {},
   "source": [
    "Kontrastit tasojen välillä ja kontrastien keskivirheet voidaan laskea tavanomaisesti\n",
    "\n",
    "$$\n",
    "\\beta_i^c = \\overrightarrow{c} ^t \\overrightarrow{\\beta}_i\n",
    "$$\n",
    "\n",
    "$$\n",
    "\\textrm{SE}(\\beta_i^c) = \\sqrt{\\overrightarrow{c}^t \\sum_i \\overrightarrow{c}}\n",
    "$$\n",
    "\n",
    "jossa $\\overrightarrow{c}$ on numeerinen kontrasti, esim. 1 tai -1, ja määrittävät nimittäjän ja osittajan yksinkertaisessa kahden tason kontrasistssa. $\\sum_i = \\Cov(\\overrightarrow{\\beta}_i)$ määritetään alempana."
   ]
  },
  {
   "cell_type": "markdown",
   "id": "766bc0aa",
   "metadata": {},
   "source": [
    "### Dispersion estimointi"
   ]
  },
  {
   "cell_type": "markdown",
   "id": "ffa5581f",
   "metadata": {},
   "source": [
    "Dispersioparamteri $\\alpha_i$ noudattaa log-normaali priorijakuamaa, joka on keskitetty trendin suhteen, joka riippuu geenin keskimääräisestä, normalisoidusta lukumäärästä. \n",
    "\n",
    "$$\n",
    "\\log \\alpha_i \\sim N (\\log \\alpha_{tr}(\\bar{\\mu}_i), \\sigma_d^2)\n",
    "$$\n",
    "\n",
    "jossa $\\alpha_tr$ on funktio geenin kesimääräisestä, normalisoidusta lukumäärästä:\n",
    "\n",
    "$$\n",
    "\\bar{\\mu}_i = \\frac{1}{m}\\sum_j \\frac{K_{ij}}{s_{ij}}\n",
    "$$\n",
    "\n",
    "Parametri kertoo priorin keskiarvoriippuvaisen odotusarvon. $\\sigma_d$ on priorin leveys, eli tämä hyperparametri kertii kuinka paljon yksittäisen geenin dispersio eroaa trendistä. Trendifunktiolle käytetään paramtrisointia\n",
    "\n",
    "$$\n",
    "\\alpha_{tr} = \\frac{\\alpha_1}{\\bar{\\mu}} + \\alpha_0 \\ (6)\n",
    "$$\n",
    "\n",
    "Dispersion esitmaatit saadaan tästä mallista kolmessa vaihessa. Menetelmä on nopea approksimaatio bayesiläiseen päättelyyn. Aluksi käytetään jokaisen geenin lukumäärää erikseen alustavan geenikohtaisen dispersioestimaatin $\\alpha_i^{gw}$ korkeimman uskottavuuden menetelmällä. Tämän jälkeen sovitetaan dispersiotrendi $\\alpha_{tr}$. Lopulta uskottuavuus yhdistetään trendin prioriin ja saadaan suurin a posterior arvo (MAP) lopullisena disperion estimaattina. Kolmen vaiheen yksityiskohdat alla."
   ]
  },
  {
   "cell_type": "markdown",
   "id": "8dfd8170",
   "metadata": {},
   "source": [
    "### Geenikohtaisen hajonnan estimointi"
   ]
  },
  {
   "cell_type": "markdown",
   "id": "847b7d60",
   "metadata": {},
   "source": [
    "Geenikohtainen dispersioestimaatti geenille $i$ estimoidaan sovittamalla negatiivisen binomijakauman yleistetty lineaarinen malli matriisiin X, joka kuvaa geenin lukumäärävastetta. Tämä malli käyttää karkeaa momenttimenetelmäestimointia dispersion estimoimiseksi. Estimointi perustuu ryhmän sisäiseen variansiin ja keskiarvoihin. Tämä alkuperäinen malli on välttämätön ensimmäisten sovitteiden aikaansaamiseksi, $\\hat{\\mu}_{ij}^0$. Tämän jälkeen maksimoidaan Cox-Reid adjusted likelihood of the dispersion, conditioned on the fitted values $\\hat{\\mu}_{ij}^0$ alkuperäisestä sovituksesta, ja saadaan geenikohtainen estimaatti $\\alpha_i^{gw}$ eli\n",
    "\n",
    "$$\n",
    "\\alpha_{i}^{gw} = \\textrm{arg} \\textrm{max}_{\\alpha} l_{CR} (\\alpha; \\overrightarrow{\\mu}_i^0, \\overrightarrow{K}_i)\n",
    "$$\n",
    "\n",
    "jossa\n",
    "\n",
    "$$\n",
    "l_{CR}(\\alpha; \\overrightarrow{\\mu}, \\overrightarrow{K}) = l(\\alpha) - \\frac{1}{2}\\log (\\det(X^tWX))\n",
    "$$\n",
    "$$\n",
    "l(\\alpha) = \\sum_j \\log f_{NB}(K_j; \\mu_j, \\alpha)\n",
    "$$\n",
    "\n",
    "jossa $f_{NB}(k; \\mu, \\alpha)$ on negatiivisen binomijakauman pistetodennäköisyysfunktio keskiarvolla $\\mu$ ja hajonnalla $\\alpha$. Toinen termi on Cox-Reid bias adjustment. Tämä korjaus korjaa hajontaestimaattien negatiivisen biaksen, kun käytetään suurimman uskottavuuden estimaatteja sovitteille $\\hat{\\mu}_{ij}^0$. Se muodostetaan sovitteiden Fisherin informaatiosta, ja se lasketaan $\\det(X^t W X)$, jossa $W$ on diagonal weight matrix from the standard iteratively reweighted least-squares algorithm. Yleistetyn lineaarisen mallin linkkifunktio on $g(\\mu) = \\log(\\mu)$ ja sen varianssifunktio on $V(\\mu; \\alpha) = \\mu + \\alpha \\mu^2$, ja matriisin alkiot $W_i$ ovat:\n",
    "\n",
    "$$\n",
    "w_{jj} = \\frac{1}{g'(\\mu_j)^2 V(\\mu_j)} = \\frac{1}{1/\\mu_j + \\alpha}\n",
    "$$\n",
    "\n",
    "Optimointi suoritetaan asteikolla $\\log \\alpha$ käyttämällä backtracking search with accepted proposals that satisfy Armijo conditions."
   ]
  },
  {
   "cell_type": "markdown",
   "id": "7218c047",
   "metadata": {},
   "source": [
    "### Dispersion trendi"
   ]
  },
  {
   "cell_type": "code",
   "execution_count": null,
   "id": "04ee5335",
   "metadata": {},
   "outputs": [],
   "source": []
  }
 ],
 "metadata": {
  "kernelspec": {
   "display_name": "R",
   "language": "R",
   "name": "ir"
  },
  "language_info": {
   "codemirror_mode": "r",
   "file_extension": ".r",
   "mimetype": "text/x-r-source",
   "name": "R",
   "pygments_lexer": "r",
   "version": "4.1.2"
  }
 },
 "nbformat": 4,
 "nbformat_minor": 5
}
