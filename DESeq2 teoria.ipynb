{
 "cells": [
  {
   "cell_type": "markdown",
   "id": "ebd9017f",
   "metadata": {},
   "source": [
    "Parametrit\n",
    "* $i \\in \\{1, \\dots, n\\}$, geenin indeksi (gene index)\n",
    "* $j \\in \\{1, \\dots, m\\}$, näytteen indeksi (sample index)\n",
    "* $r \\in \\{0, \\dots, p-1\\}$, kovarianssiindeksi (covariate index, with intercept r = 0)\n",
    "* $K_{ij}$ geenin $i$ sekvenssilukumäärä näytteesä $j$ (counts of reads for gene i, sample j)\n",
    "* $\\mu_{ij}$ sovitettu keskiarvo (fitted mean)\n",
    "* $\\alpha_i$ geenikohtainen hajonta (gene-specific dispersion)\n",
    "* $s_j$ näytekohtainen suuruustekijä (sample-specific size factor)\n",
    "* $s_{ij}$ geeni- ja näytekohtainen normalisaatiovakio (gene- and sample-specific normalization factor)\n",
    "* $q_{ij}$ proportional to true concentration of fragments\n",
    "* $x_{jr}$ elements of the design matrix $X$\n",
    "*"
   ]
  },
  {
   "cell_type": "markdown",
   "id": "1dd49d58",
   "metadata": {},
   "source": [
    "$$\n",
    "NB(y | \\mu, \\alpha) = {y + \\alpha -1 \\choose y}(\\frac{\\mu}{\\mu + \\alpha})^n (\\frac{\\alpha}{\\mu + \\alpha})^\\alpha\n",
    "$$"
   ]
  },
  {
   "cell_type": "markdown",
   "id": "d9325d00",
   "metadata": {},
   "source": [
    "Sekvenssilukumäärä $K_{ij}$ geenille $i$ näytteessä $j$ mallinnetaan negatiivisen binomijakauman yleistetyllä lineaarisella mallilla:\n",
    "\n",
    "$$\n",
    "K_{ij} \\sim NB(\\mu_{ij}, \\alpha_i)\n",
    "$$\n",
    "\n",
    "$$\n",
    "\\mu_{ij} = s_{ij}q_{ij}\n",
    "$$"
   ]
  },
  {
   "cell_type": "markdown",
   "id": "b9e784af",
   "metadata": {},
   "source": [
    "$$\n",
    "\\log q_{ij} = \\sum_r x_{jr} \\beta_{ir}\n",
    "$$"
   ]
  },
  {
   "cell_type": "markdown",
   "id": "8cf883aa",
   "metadata": {},
   "source": [
    "Oletusarvoisesti normalisaatiovakiot $s_{ij}$ ovat vakioita yhdessä näytteessä, eli $s_{ij} = s_j$. Normalisaatiovakiot estimoidaan osamäärien mediaanimenetelmällä:\n",
    "\n",
    "$$\n",
    "s_j = \\textrm{median}\\frac{K_{ij}}{K_i^R}, K_i^R \\neq 0 \n",
    "$$\n",
    "jossa\n",
    "$$\n",
    "K_i^R = (\\prod_{j=1}^m K_{ij})^{1/m}\n",
    "$$"
   ]
  },
  {
   "cell_type": "markdown",
   "id": "8454f4ab",
   "metadata": {},
   "source": [
    "### Expanded design matrices"
   ]
  },
  {
   "cell_type": "markdown",
   "id": "205719ad",
   "metadata": {},
   "source": [
    "Lineaarisessa mallinnuksessa luokkamuuttuja tai tekijä voi saada kaksi tai useampaa arvoa tai tasoa. Yleensä sunnittelumatriisissa yksi luokka on viitearvo (base level) ja se liitetään interceptiin. Standardi GLM:ssä viitetason valinta ei vaikuta kontrasteihin (LFCs). Tämä ei kuitenkaan päde tässä, kun käytetään ridge-regression-like shrinkage vakioolle, kun luokkamuuttjalla on enemmän kuin kaksi luokkaa. Tämä johtuu siitä, että viitearvoon ei kohdistu shrinkage, mutta muihin tasoihin kyllä.  "
   ]
  },
  {
   "cell_type": "markdown",
   "id": "f99ca928",
   "metadata": {},
   "source": [
    "### Contrasts"
   ]
  },
  {
   "cell_type": "code",
   "execution_count": null,
   "id": "529ea3b5",
   "metadata": {},
   "outputs": [],
   "source": []
  }
 ],
 "metadata": {
  "kernelspec": {
   "display_name": "R",
   "language": "R",
   "name": "ir"
  },
  "language_info": {
   "codemirror_mode": "r",
   "file_extension": ".r",
   "mimetype": "text/x-r-source",
   "name": "R",
   "pygments_lexer": "r",
   "version": "4.1.2"
  }
 },
 "nbformat": 4,
 "nbformat_minor": 5
}
