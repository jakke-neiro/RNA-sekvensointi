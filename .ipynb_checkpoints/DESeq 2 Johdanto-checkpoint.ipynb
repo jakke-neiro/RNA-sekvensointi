{
 "cells": [
  {
   "cell_type": "markdown",
   "id": "1e10f03b",
   "metadata": {},
   "source": [
    "# DESeq 2"
   ]
  },
  {
   "cell_type": "markdown",
   "id": "d796c970",
   "metadata": {},
   "source": [
    "Ekspressioanalyysin viimeinen askel on sovittaa lukumäärädata negatiiviseen binomijakaumaan ja suorittaa tilastollliset testit ekspressioeroavaisuuksien löytämiseksi. Toisin sanoen arvioidaan, onko geenin eksressiotaso tilastollisen merkitsevän erilainen eri näytteissä. "
   ]
  },
  {
   "cell_type": "markdown",
   "id": "538d2aba",
   "metadata": {},
   "source": [
    "DESeq2 julkaistiin vuonna 2014, mutta pakettia päivitetään jatkuvasti. DESeq perustuu dispersion estimointiin ja käytää yleistettyä lineaarista mallinointia. DESeq2 sisältää lukuisia osavaiheita. Aluksi DESeq2 mallintaa raakalukumäärät hyödyntämällä normalisaatiovakioita, jotka huomioivat näytteiden syvyyserot. Tämän jälkeen estimoidaan geenikohtaiset hajonnat ja kutistaa (shrink) nämä estimaatit parempien hajontaestimaattien löytämiseksi. Lopuksi DESeq2 sovittaa negatiivisen binomijakauman ja suorittaa hypoteesitestauksen Waldin testillä (Wald test) ja uskottavuusosamäärätestillä (Likelihood Ratio Test). "
   ]
  },
  {
   "cell_type": "markdown",
   "id": "5e0a37ce",
   "metadata": {},
   "source": [
    "### Design formula"
   ]
  },
  {
   "cell_type": "markdown",
   "id": "9b331b93",
   "metadata": {},
   "source": [
    "### DESeq2 geenieksressioanalyysin vaiheet"
   ]
  },
  {
   "cell_type": "markdown",
   "id": "6b593ca0",
   "metadata": {},
   "source": [
    "* Estimoidaan normalisaatiovakiot\n",
    "* Estimoidaan geenikohtaiset hajonnat\n",
    "* Sovitetaan käyrä geenikohtaisiin disperioestimaatteihin\n",
    "* Kutistetaan geenikohtaiset dispersioestimaatit\n",
    "* Sovitetaan yleistetty lineaarinen malli jokaiselle geenille"
   ]
  },
  {
   "cell_type": "markdown",
   "id": "4ea68a51",
   "metadata": {},
   "source": [
    "### Vaihe 1: Estimoidaan normalisaatiovakiot"
   ]
  },
  {
   "cell_type": "markdown",
   "id": "a247f5f7",
   "metadata": {},
   "source": [
    "### Vaihe 2: Estimoidaan geenikohtainen hajonta"
   ]
  },
  {
   "cell_type": "markdown",
   "id": "bbd23b89",
   "metadata": {},
   "source": [
    "Hajonta mittaa datan hajontaa. Varianssi, keskihajonta ym. käytetään hajonnan mittamiseen. DESeq2 tarkastelee tiettyä hajonnan parametria, $\\alpha$. "
   ]
  },
  {
   "cell_type": "code",
   "execution_count": 2,
   "id": "7db75e56",
   "metadata": {},
   "outputs": [],
   "source": [
    "library(DESeq2)"
   ]
  }
 ],
 "metadata": {
  "kernelspec": {
   "display_name": "R",
   "language": "R",
   "name": "ir"
  },
  "language_info": {
   "codemirror_mode": "r",
   "file_extension": ".r",
   "mimetype": "text/x-r-source",
   "name": "R",
   "pygments_lexer": "r",
   "version": "4.1.2"
  }
 },
 "nbformat": 4,
 "nbformat_minor": 5
}
