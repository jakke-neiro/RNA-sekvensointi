{
 "cells": [
  {
   "cell_type": "code",
   "execution_count": null,
   "id": "8dd09e26",
   "metadata": {},
   "outputs": [],
   "source": []
  },
  {
   "cell_type": "markdown",
   "id": "d427a063",
   "metadata": {},
   "source": [
    "Jakke Neiro$^1$\n",
    "\n",
    "1. Oxfordin yliopisto"
   ]
  },
  {
   "cell_type": "markdown",
   "id": "fa40e0ad",
   "metadata": {},
   "source": [
    "# 1. Johdanto"
   ]
  },
  {
   "cell_type": "markdown",
   "id": "6ad09085",
   "metadata": {},
   "source": [
    "Tilastolliset mallit kuvaavat altisteen $x$ (selittäjä, riippumaton muuttuja, syy) vaikutusta vasteeseen $y$ (selitettävä muuttuja, riippuva muuttuja, seuraus). Tilastollista mallia käytetään tiedon ymmärtämiseen, ennustamiseen ja ehkäisyyn. "
   ]
  },
  {
   "cell_type": "markdown",
   "id": "e8669f8b",
   "metadata": {},
   "source": [
    "Vaste \n",
    "$$\\textbf{y} = \\begin{pmatrix} y_1 \\\\ y_2 \\\\ \\vdots \\\\ y_n \\end{pmatrix}$$"
   ]
  },
  {
   "cell_type": "markdown",
   "id": "0d8c535c",
   "metadata": {},
   "source": [
    "* Luokiteltu\n",
    "    * Kaksiluokkainen: Bernoulli, binomi\n",
    "    * Usealuokkainen: multinomi\n",
    "* Numeerinen\n",
    "    * Lukumäärä: binomi, Poisson\n",
    "    * Jatkuva\n",
    "        * Elinikä, positiivinen: eksponentti, gamma, weibull\n",
    "        * Reaaliluku: normaali"
   ]
  },
  {
   "cell_type": "markdown",
   "id": "c3d5df32",
   "metadata": {},
   "source": [
    "## Negatiivinen binomijakauma"
   ]
  },
  {
   "cell_type": "markdown",
   "id": "fdc8ff48",
   "metadata": {},
   "source": [
    "Negatiivista binomijakaumaa käytetään lukumääräaineistojen mallintamiseen, etenkin kun vasteen lukumäärämuuttujassa on ylihajontaa."
   ]
  },
  {
   "cell_type": "markdown",
   "id": "0956c88d",
   "metadata": {},
   "source": [
    "Negatiivisen binomijakauman parametrit ovat $r > 0$, odotettu onnistumiskerta, ja $p \\in (0,1)$, onnistumisen todennäköisyys."
   ]
  },
  {
   "cell_type": "markdown",
   "id": "d2af8973",
   "metadata": {},
   "source": [
    "Negatiivisen binomijakauman pistetodennäköisyysfunktio on\n",
    "\n",
    "$$\n",
    "P(X = i) = {r + i - 1 \\choose i}p^r(1 - p)^i\n",
    "$$"
   ]
  },
  {
   "cell_type": "markdown",
   "id": "4ddc06f3",
   "metadata": {},
   "source": [
    "### Esimerkki"
   ]
  },
  {
   "cell_type": "markdown",
   "id": "6b225915",
   "metadata": {},
   "source": [
    "https://stats.oarc.ucla.edu/r/dae/negative-binomial-regression/"
   ]
  },
  {
   "cell_type": "code",
   "execution_count": 4,
   "id": "df0067e1",
   "metadata": {},
   "outputs": [
    {
     "name": "stderr",
     "output_type": "stream",
     "text": [
      "Loading required package: foreign\n",
      "\n",
      "Loading required package: ggplot2\n",
      "\n",
      "Loading required package: MASS\n",
      "\n"
     ]
    }
   ],
   "source": [
    "require(foreign)\n",
    "require(ggplot2)\n",
    "require(MASS)"
   ]
  },
  {
   "cell_type": "code",
   "execution_count": 5,
   "id": "0c0b109b",
   "metadata": {},
   "outputs": [
    {
     "data": {
      "text/plain": [
       "       id         gender         math          daysabs               prog    \n",
       " 1001   :  1   female:160   Min.   : 1.00   Min.   : 0.000   General   : 40  \n",
       " 1002   :  1   male  :154   1st Qu.:28.00   1st Qu.: 1.000   Academic  :167  \n",
       " 1003   :  1                Median :48.00   Median : 4.000   Vocational:107  \n",
       " 1004   :  1                Mean   :48.27   Mean   : 5.955                   \n",
       " 1005   :  1                3rd Qu.:70.00   3rd Qu.: 8.000                   \n",
       " 1006   :  1                Max.   :99.00   Max.   :35.000                   \n",
       " (Other):308                                                                 "
      ]
     },
     "metadata": {},
     "output_type": "display_data"
    }
   ],
   "source": [
    "dat <- read.dta(\"https://stats.idre.ucla.edu/stat/stata/dae/nb_data.dta\")\n",
    "dat <- within(dat, {\n",
    "    prog <- factor(prog, levels = 1:3, labels = c(\"General\", \"Academic\", \"Vocational\"))\n",
    "    id <- factor(id)\n",
    "})\n",
    "\n",
    "summary(dat)"
   ]
  },
  {
   "cell_type": "markdown",
   "id": "fd460398",
   "metadata": {},
   "source": [
    "Esimerkissä tutkitaan kahden koulun oppilaita. Vastemuuttujana on poissaolopäivien lukumäärä, ja selittävinä muuttujina koulutusohjelma ja matematiikan koetulos. "
   ]
  },
  {
   "cell_type": "code",
   "execution_count": 9,
   "id": "868cc3a2",
   "metadata": {},
   "outputs": [
    {
     "data": {
      "image/png": "[encoded data removed]",
      "text/plain": [
       "plot without title"
      ]
     },
     "metadata": {
      "image/png": {
       "height": 420,
       "width": 420
      }
     },
     "output_type": "display_data"
    }
   ],
   "source": [
    "ggplot(dat, aes(daysabs, fill = prog)) + geom_histogram(fill=\"black\", binwidth = 1) + facet_grid(prog ~ \n",
    "    ., margins = TRUE, scales = \"free\")+theme_classic()"
   ]
  },
  {
   "cell_type": "code",
   "execution_count": null,
   "id": "e869f28d",
   "metadata": {},
   "outputs": [],
   "source": []
  }
 ],
 "metadata": {
  "kernelspec": {
   "display_name": "R",
   "language": "R",
   "name": "ir"
  },
  "language_info": {
   "codemirror_mode": "r",
   "file_extension": ".r",
   "mimetype": "text/x-r-source",
   "name": "R",
   "pygments_lexer": "r",
   "version": "4.1.2"
  }
 },
 "nbformat": 4,
 "nbformat_minor": 5
}
